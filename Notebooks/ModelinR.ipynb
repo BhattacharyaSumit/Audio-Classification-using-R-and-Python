{
  "nbformat": 4,
  "nbformat_minor": 0,
  "metadata": {
    "colab": {
      "name": "ModelinR.ipynb",
      "version": "0.3.2",
      "provenance": [],
      "collapsed_sections": []
    },
    "kernelspec": {
      "name": "python2",
      "display_name": "Python 2"
    },
    "accelerator": "GPU"
  },
  "cells": [
    {
      "cell_type": "markdown",
      "metadata": {
        "id": "9GE0RvxWZr3W",
        "colab_type": "text"
      },
      "source": [
        "This code block is required to be run to set up R kernel on Colab"
      ]
    },
    {
      "cell_type": "code",
      "metadata": {
        "id": "7zeDBwyYoSIi",
        "colab_type": "code",
        "outputId": "5c53e0cf-0505-4fe7-9cca-bdbe67a21885",
        "colab": {
          "base_uri": "https://localhost:8080/",
          "height": 224
        }
      },
      "source": [
        "!apt-get install libssl-dev > /dev/null\n",
        "!wget https://repo.continuum.io/miniconda/Miniconda3-latest-Linux-x86_64.sh\n",
        "!chmod +x ./Miniconda3-latest-Linux-x86_64.sh\n",
        "!./Miniconda3-latest-Linux-x86_64.sh -b -p /conda  > /dev/null 2>&1 \n",
        "!/conda/bin/conda install -c r r-rstan r-irkernel gxx_linux-64 -y -q > /dev/null 2>&1\n",
        "!/conda/bin/R -e \"IRkernel::installspec(name = 'python2', displayname = 'R', user = FALSE)\"  > /dev/null 2>&1\n",
        "!mkdir /root/.R/\n",
        "!echo \"CXX14FLAGS=-O3 -mtune=native -march=native -Wno-ignored-attributes -Wno-deprecated-declarations\" > /root/.R/Makevars\n",
        "import os\n",
        "os._exit(00)\n"
      ],
      "execution_count": 0,
      "outputs": [
        {
          "output_type": "stream",
          "text": [
            "--2019-06-03 06:57:05--  https://repo.continuum.io/miniconda/Miniconda3-latest-Linux-x86_64.sh\n",
            "Resolving repo.continuum.io (repo.continuum.io)... 104.18.200.79, 104.18.201.79, 2606:4700::6812:c84f, ...\n",
            "Connecting to repo.continuum.io (repo.continuum.io)|104.18.200.79|:443... connected.\n",
            "HTTP request sent, awaiting response... 200 OK\n",
            "Length: 70348401 (67M) [application/x-sh]\n",
            "Saving to: ‘Miniconda3-latest-Linux-x86_64.sh’\n",
            "\n",
            "\r          Miniconda   0%[                    ]       0  --.-KB/s               \r         Miniconda3  40%[=======>            ]  27.33M   137MB/s               \r        Miniconda3-  99%[==================> ]  66.69M   167MB/s               \rMiniconda3-latest-L 100%[===================>]  67.09M   167MB/s    in 0.4s    \n",
            "\n",
            "2019-06-03 06:57:06 (167 MB/s) - ‘Miniconda3-latest-Linux-x86_64.sh’ saved [70348401/70348401]\n",
            "\n"
          ],
          "name": "stdout"
        }
      ]
    },
    {
      "cell_type": "code",
      "metadata": {
        "id": "r-Bm6xdloUB-",
        "colab_type": "code",
        "colab": {}
      },
      "source": [
        "Sys.setenv(PATH= paste(\"/conda/bin\" , Sys.getenv(\"PATH\"), sep = \":\" ) )\n"
      ],
      "execution_count": 0,
      "outputs": []
    },
    {
      "cell_type": "code",
      "metadata": {
        "id": "wmcuOT8IwDxf",
        "colab_type": "code",
        "outputId": "4dbbd5e2-259c-4b9b-8847-8efe80a59b54",
        "colab": {
          "base_uri": "https://localhost:8080/",
          "height": 85
        }
      },
      "source": [
        "install.packages(\"readr\") #For reading csv files"
      ],
      "execution_count": 2,
      "outputs": [
        {
          "output_type": "stream",
          "text": [
            "also installing the dependencies ‘pkgconfig’, ‘hms’, ‘clipr’\n",
            "\n",
            "Updating HTML index of packages in '.Library'\n",
            "Making 'packages.html' ... done\n"
          ],
          "name": "stderr"
        }
      ]
    },
    {
      "cell_type": "code",
      "metadata": {
        "id": "ics6OLc9pbbw",
        "colab_type": "code",
        "outputId": "0b5b70fe-70d3-4f62-a52d-1dbe09c1d454",
        "colab": {
          "base_uri": "https://localhost:8080/",
          "height": 119
        }
      },
      "source": [
        "Sys.setenv(USE_CXX14 = 0)\n",
        "library(readr)\n",
        "df <- read_csv(\"Audionumeric.csv\")"
      ],
      "execution_count": 0,
      "outputs": [
        {
          "output_type": "stream",
          "text": [
            "Parsed with column specification:\n",
            "cols(\n",
            "  .default = col_double(),\n",
            "  label = col_character()\n",
            ")\n",
            "See spec(...) for full column specifications.\n"
          ],
          "name": "stderr"
        }
      ]
    },
    {
      "cell_type": "code",
      "metadata": {
        "id": "36rBd2CbwxCY",
        "colab_type": "code",
        "outputId": "9f1dc27b-4ce1-49d0-8928-9e2dd86f6571",
        "colab": {
          "base_uri": "https://localhost:8080/",
          "height": 166
        }
      },
      "source": [
        "head(df)"
      ],
      "execution_count": 0,
      "outputs": [
        {
          "output_type": "display_data",
          "data": {
            "text/plain": [
              "  0   1   2   3   4    5   6   7   8   9  ⋯ 142 143 144 145 146 147 148 149 150\n",
              "1   7 -20   3  -5   13   3   6   1   0 -2 ⋯  0   2   5   6   -1  3   0    7  3 \n",
              "2   5  -1  -2   0    0   4   2   8 -16  3 ⋯ -2  -1   0  -3    2 -1   0   -2 -1 \n",
              "3 -52  35  52 -58  -29 -16 -39  18  95 10 ⋯  0   0   1  -1    2  1  -4    1  4 \n",
              "4 -43  56  31  12    9  13 -12  -4   0 14 ⋯  0  21  11   1  -32  0  -7  -23  5 \n",
              "5   0   0   2  -1   -2  -1   0   0   0  0 ⋯  0   0   0   0    0  0   0    0  0 \n",
              "6   7 -98 -62 -11 -100  -1  28 -24  35  7 ⋯  0   0   0   0    0  0  -1    0  0 \n",
              "  label\n",
              "1 bird \n",
              "2 bird \n",
              "3 bird \n",
              "4 bird \n",
              "5 bird \n",
              "6 bird "
            ],
            "text/latex": "\\begin{tabular}{r|llllllllllllllllllllllllllllllllllllllllllllllllllllllllllllllllllllllllllllllllllllllllllllllllllllllllllllllllllllllllllllllllllllllllllllllllllllllll}\n 0 & 1 & 2 & 3 & 4 & 5 & 6 & 7 & 8 & 9 & ⋯ & 142 & 143 & 144 & 145 & 146 & 147 & 148 & 149 & 150 & label\\\\\n\\hline\n\t   7  & -20  &   3  &  -5  &   13 &   3  &   6  &   1  &   0  & -2   & ⋯    &  0   &  2   &  5   &  6   &  -1  &  3   &  0   &   7  &  3   & bird\\\\\n\t   5  &  -1  &  -2  &   0  &    0 &   4  &   2  &   8  & -16  &  3   & ⋯    & -2   & -1   &  0   & -3   &   2  & -1   &  0   &  -2  & -1   & bird\\\\\n\t -52  &  35  &  52  & -58  &  -29 & -16  & -39  &  18  &  95  & 10   & ⋯    &  0   &  0   &  1   & -1   &   2  &  1   & -4   &   1  &  4   & bird\\\\\n\t -43  &  56  &  31  &  12  &    9 &  13  & -12  &  -4  &   0  & 14   & ⋯    &  0   & 21   & 11   &  1   & -32  &  0   & -7   & -23  &  5   & bird\\\\\n\t   0  &   0  &   2  &  -1  &   -2 &  -1  &   0  &   0  &   0  &  0   & ⋯    &  0   &  0   &  0   &  0   &   0  &  0   &  0   &   0  &  0   & bird\\\\\n\t   7  & -98  & -62  & -11  & -100 &  -1  &  28  & -24  &  35  &  7   & ⋯    &  0   &  0   &  0   &  0   &   0  &  0   & -1   &   0  &  0   & bird\\\\\n\\end{tabular}\n",
            "text/markdown": "\n0 | 1 | 2 | 3 | 4 | 5 | 6 | 7 | 8 | 9 | ⋯ | 142 | 143 | 144 | 145 | 146 | 147 | 148 | 149 | 150 | label | \n|---|---|---|---|---|---|\n|   7  | -20  |   3  |  -5  |   13 |   3  |   6  |   1  |   0  | -2   | ⋯    |  0   |  2   |  5   |  6   |  -1  |  3   |  0   |   7  |  3   | bird | \n|   5  |  -1  |  -2  |   0  |    0 |   4  |   2  |   8  | -16  |  3   | ⋯    | -2   | -1   |  0   | -3   |   2  | -1   |  0   |  -2  | -1   | bird | \n| -52  |  35  |  52  | -58  |  -29 | -16  | -39  |  18  |  95  | 10   | ⋯    |  0   |  0   |  1   | -1   |   2  |  1   | -4   |   1  |  4   | bird | \n| -43  |  56  |  31  |  12  |    9 |  13  | -12  |  -4  |   0  | 14   | ⋯    |  0   | 21   | 11   |  1   | -32  |  0   | -7   | -23  |  5   | bird | \n|   0  |   0  |   2  |  -1  |   -2 |  -1  |   0  |   0  |   0  |  0   | ⋯    |  0   |  0   |  0   |  0   |   0  |  0   |  0   |   0  |  0   | bird | \n|   7  | -98  | -62  | -11  | -100 |  -1  |  28  | -24  |  35  |  7   | ⋯    |  0   |  0   |  0   |  0   |   0  |  0   | -1   |   0  |  0   | bird | \n\n\n",
            "text/html": [
              "<table>\n",
              "<thead><tr><th scope=col>0</th><th scope=col>1</th><th scope=col>2</th><th scope=col>3</th><th scope=col>4</th><th scope=col>5</th><th scope=col>6</th><th scope=col>7</th><th scope=col>8</th><th scope=col>9</th><th scope=col>⋯</th><th scope=col>142</th><th scope=col>143</th><th scope=col>144</th><th scope=col>145</th><th scope=col>146</th><th scope=col>147</th><th scope=col>148</th><th scope=col>149</th><th scope=col>150</th><th scope=col>label</th></tr></thead>\n",
              "<tbody>\n",
              "\t<tr><td>  7 </td><td>-20 </td><td>  3 </td><td> -5 </td><td>  13</td><td>  3 </td><td>  6 </td><td>  1 </td><td>  0 </td><td>-2  </td><td>⋯   </td><td> 0  </td><td> 2  </td><td> 5  </td><td> 6  </td><td> -1 </td><td> 3  </td><td> 0  </td><td>  7 </td><td> 3  </td><td>bird</td></tr>\n",
              "\t<tr><td>  5 </td><td> -1 </td><td> -2 </td><td>  0 </td><td>   0</td><td>  4 </td><td>  2 </td><td>  8 </td><td>-16 </td><td> 3  </td><td>⋯   </td><td>-2  </td><td>-1  </td><td> 0  </td><td>-3  </td><td>  2 </td><td>-1  </td><td> 0  </td><td> -2 </td><td>-1  </td><td>bird</td></tr>\n",
              "\t<tr><td>-52 </td><td> 35 </td><td> 52 </td><td>-58 </td><td> -29</td><td>-16 </td><td>-39 </td><td> 18 </td><td> 95 </td><td>10  </td><td>⋯   </td><td> 0  </td><td> 0  </td><td> 1  </td><td>-1  </td><td>  2 </td><td> 1  </td><td>-4  </td><td>  1 </td><td> 4  </td><td>bird</td></tr>\n",
              "\t<tr><td>-43 </td><td> 56 </td><td> 31 </td><td> 12 </td><td>   9</td><td> 13 </td><td>-12 </td><td> -4 </td><td>  0 </td><td>14  </td><td>⋯   </td><td> 0  </td><td>21  </td><td>11  </td><td> 1  </td><td>-32 </td><td> 0  </td><td>-7  </td><td>-23 </td><td> 5  </td><td>bird</td></tr>\n",
              "\t<tr><td>  0 </td><td>  0 </td><td>  2 </td><td> -1 </td><td>  -2</td><td> -1 </td><td>  0 </td><td>  0 </td><td>  0 </td><td> 0  </td><td>⋯   </td><td> 0  </td><td> 0  </td><td> 0  </td><td> 0  </td><td>  0 </td><td> 0  </td><td> 0  </td><td>  0 </td><td> 0  </td><td>bird</td></tr>\n",
              "\t<tr><td>  7 </td><td>-98 </td><td>-62 </td><td>-11 </td><td>-100</td><td> -1 </td><td> 28 </td><td>-24 </td><td> 35 </td><td> 7  </td><td>⋯   </td><td> 0  </td><td> 0  </td><td> 0  </td><td> 0  </td><td>  0 </td><td> 0  </td><td>-1  </td><td>  0 </td><td> 0  </td><td>bird</td></tr>\n",
              "</tbody>\n",
              "</table>\n"
            ]
          },
          "metadata": {
            "tags": []
          }
        }
      ]
    },
    {
      "cell_type": "code",
      "metadata": {
        "id": "_dXuQ2GNw2f0",
        "colab_type": "code",
        "colab": {}
      },
      "source": [
        "df$label <- as.numeric(factor(df$label))  #Encoding the label column"
      ],
      "execution_count": 0,
      "outputs": []
    },
    {
      "cell_type": "markdown",
      "metadata": {
        "id": "SRwpovZLaEOc",
        "colab_type": "text"
      },
      "source": [
        "I will try to use XGBoost package as it is much efficient compared to other Tree Based Algorithms.\n",
        "There is another Package which is very fast and reliable comapared to XGBoost. It is CatBoost. CatBoost works wonderously well with Categorical Features. It can outperform XGBoost by over 50 times in the presence of Categorical Features. But the Audionumeric dataset has only numeric features so CatBoost will perform similar to XGBoost (if not worse).\n",
        "\n",
        "\n",
        "So , I will be using XGBoost here."
      ]
    },
    {
      "cell_type": "code",
      "metadata": {
        "id": "uf-YTbMDz79w",
        "colab_type": "code",
        "outputId": "3abaf30c-d928-47c6-b910-e3bd91497d62",
        "colab": {
          "base_uri": "https://localhost:8080/",
          "height": 173
        }
      },
      "source": [
        "install.packages(\"xgboost\")"
      ],
      "execution_count": 3,
      "outputs": [
        {
          "output_type": "stream",
          "text": [
            "also installing the dependency ‘data.table’\n",
            "\n",
            "Updating HTML index of packages in '.Library'\n",
            "Making 'packages.html' ... done\n",
            "also installing the dependencies ‘backports’, ‘zeallot’, ‘vctrs’, ‘numDeriv’, ‘SQUAREM’, ‘fansi’, ‘pillar’, ‘KernSmooth’, ‘lava’, ‘assertthat’, ‘glue’, ‘R6’, ‘Rcpp’, ‘tibble’, ‘BH’, ‘plogr’, ‘rpart’, ‘survival’, ‘nnet’, ‘class’, ‘prodlim’, ‘codetools’, ‘iterators’, ‘dplyr’, ‘generics’, ‘gower’, ‘ipred’, ‘lubridate’, ‘purrr’, ‘RcppRoll’, ‘rlang’, ‘tidyr’, ‘tidyselect’, ‘timeDate’, ‘foreach’, ‘ModelMetrics’, ‘recipes’\n",
            "\n",
            "Updating HTML index of packages in '.Library'\n",
            "Making 'packages.html' ... done\n"
          ],
          "name": "stderr"
        }
      ]
    },
    {
      "cell_type": "code",
      "metadata": {
        "id": "2E9TcE3s1qCV",
        "colab_type": "code",
        "colab": {}
      },
      "source": [
        "library(xgboost)"
      ],
      "execution_count": 0,
      "outputs": []
    },
    {
      "cell_type": "markdown",
      "metadata": {
        "id": "-qJW9wHda_Ms",
        "colab_type": "text"
      },
      "source": [
        "Before training, the datatset needs to be split into train and test(or val) sets so as to keep a check on overfitting.\n",
        "~ XGBoost is prone to overfitting if proper hyperparameter tuning and regularization(for gblinear booster) is are not applied."
      ]
    },
    {
      "cell_type": "code",
      "metadata": {
        "id": "fg7-fg4MGEfo",
        "colab_type": "code",
        "colab": {}
      },
      "source": [
        "tr_ind <- sample(1:nrow(df), 0.8 * nrow(df))\n",
        "val_ind <- setdiff(1:nrow(df), tr_ind)\n",
        "\n",
        "\n",
        "X_train <- df[tr_ind, 1:151]\n",
        "y_train <- df[tr_ind, 'label'] -1\n",
        "\n",
        "X_test <- df[val_ind, 1:151]\n",
        "y_test <- df[val_ind, \"label\"] -1"
      ],
      "execution_count": 0,
      "outputs": []
    },
    {
      "cell_type": "code",
      "metadata": {
        "id": "yp1I8cUjOg9x",
        "colab_type": "code",
        "outputId": "662e2a88-26c0-4b2d-9c8e-846b1c9b1d47",
        "colab": {
          "base_uri": "https://localhost:8080/",
          "height": 255
        }
      },
      "source": [
        "summary(y_train)\n",
        "summary(y_test)"
      ],
      "execution_count": 0,
      "outputs": [
        {
          "output_type": "display_data",
          "data": {
            "text/plain": [
              "     label      \n",
              " Min.   :0.000  \n",
              " 1st Qu.:1.000  \n",
              " Median :1.000  \n",
              " Mean   :1.311  \n",
              " 3rd Qu.:2.000  \n",
              " Max.   :2.000  "
            ]
          },
          "metadata": {
            "tags": []
          }
        },
        {
          "output_type": "display_data",
          "data": {
            "text/plain": [
              "     label      \n",
              " Min.   :0.000  \n",
              " 1st Qu.:1.000  \n",
              " Median :1.000  \n",
              " Mean   :1.283  \n",
              " 3rd Qu.:2.000  \n",
              " Max.   :2.000  "
            ]
          },
          "metadata": {
            "tags": []
          }
        }
      ]
    },
    {
      "cell_type": "markdown",
      "metadata": {
        "id": "5U823tNSbZc4",
        "colab_type": "text"
      },
      "source": [
        "The above summaries reflect that the train and test datasets are stratified."
      ]
    },
    {
      "cell_type": "markdown",
      "metadata": {
        "id": "FE6jIFgtbpao",
        "colab_type": "text"
      },
      "source": [
        "XGBoost can accept data  in the following forms:\n",
        "\n",
        "-- R dataframe \n",
        "\n",
        "-- R data.table\n",
        "\n",
        "-- DMatirx( specifically for XGBoost).\n",
        "\n",
        "Out of these, DMatrix is the most efficient to work using XGBoost."
      ]
    },
    {
      "cell_type": "code",
      "metadata": {
        "id": "q_af6hqgDFai",
        "colab_type": "code",
        "colab": {}
      },
      "source": [
        "dtrain <- xgb.DMatrix(data=as.matrix(X_train) ,  label =as.matrix(y_train))\n",
        "dval <- xgb.DMatrix(data = as.matrix(X_test), label = as.matrix(y_test))\n",
        "watchlist <- list(train = dtrain , val = dval)"
      ],
      "execution_count": 0,
      "outputs": []
    },
    {
      "cell_type": "code",
      "metadata": {
        "id": "ZISvidhlWYQA",
        "colab_type": "code",
        "colab": {}
      },
      "source": [
        "params <- list(eval_metric ='merror' ,booster = 'gbtree' , objective = 'multi:softmax' , num_class=3) "
      ],
      "execution_count": 0,
      "outputs": []
    },
    {
      "cell_type": "markdown",
      "metadata": {
        "id": "uYhLzjU7c9Kq",
        "colab_type": "text"
      },
      "source": [
        "Cross-Validation helps to tune hyperparameters to some extent."
      ]
    },
    {
      "cell_type": "code",
      "metadata": {
        "id": "BqEt8JfkB5Jg",
        "colab_type": "code",
        "outputId": "2da8dab2-c852-49b3-9c1f-06de2e3c3b93",
        "colab": {
          "base_uri": "https://localhost:8080/",
          "height": 241
        }
      },
      "source": [
        "xgb_mod <- xgb.cv(params = params,data = dtrain,nrounds = 500, nfold=100, showsd=T, stratified=T, print_every_n=20, early.stop.round=40, maximize=F)"
      ],
      "execution_count": 36,
      "outputs": [
        {
          "output_type": "stream",
          "text": [
            "Warning message:\n",
            "“'early.stop.round' is deprecated.\n",
            "Use 'early_stopping_rounds' instead.\n",
            "See help(\"Deprecated\") and help(\"xgboost-deprecated\").”"
          ],
          "name": "stderr"
        },
        {
          "output_type": "stream",
          "text": [
            "[1]\ttrain-merror:0.040125+0.012724\ttest-merror:0.244321+0.426819 \n",
            "Multiple eval metrics are present. Will use test_merror for early stopping.\n",
            "Will train until test_merror hasn't improved in 40 rounds.\n",
            "\n",
            "[21]\ttrain-merror:0.000000+0.000000\ttest-merror:0.242222+0.426406 \n",
            "[41]\ttrain-merror:0.000000+0.000000\ttest-merror:0.251975+0.432318 \n",
            "Stopping. Best iteration:\n",
            "[10]\ttrain-merror:0.000000+0.000000\ttest-merror:0.212099+0.406761\n",
            "\n"
          ],
          "name": "stdout"
        }
      ]
    },
    {
      "cell_type": "code",
      "metadata": {
        "id": "XZOnsA7aSrX8",
        "colab_type": "code",
        "colab": {}
      },
      "source": [
        "n <- xgb_mod$evaluation_log"
      ],
      "execution_count": 0,
      "outputs": []
    },
    {
      "cell_type": "code",
      "metadata": {
        "id": "9uuEaOUhVFLX",
        "colab_type": "code",
        "colab": {
          "base_uri": "https://localhost:8080/",
          "height": 255
        },
        "outputId": "cafc547a-7d41-4889-bc72-a9c663a34b21"
      },
      "source": [
        "summary(n)"
      ],
      "execution_count": 40,
      "outputs": [
        {
          "output_type": "display_data",
          "data": {
            "text/plain": [
              "      iter       train_merror_mean  train_merror_std    test_merror_mean\n",
              " Min.   : 1.00   Min.   :0.000000   Min.   :0.0000000   Min.   :0.2121  \n",
              " 1st Qu.:13.25   1st Qu.:0.000000   1st Qu.:0.0000000   1st Qu.:0.2321  \n",
              " Median :25.50   Median :0.000000   Median :0.0000000   Median :0.2420  \n",
              " Mean   :25.50   Mean   :0.001892   Mean   :0.0006979   Mean   :0.2386  \n",
              " 3rd Qu.:37.75   3rd Qu.:0.000000   3rd Qu.:0.0000000   3rd Qu.:0.2501  \n",
              " Max.   :50.00   Max.   :0.040125   Max.   :0.0127239   Max.   :0.2526  \n",
              " test_merror_std \n",
              " Min.   :0.4068  \n",
              " 1st Qu.:0.4202  \n",
              " Median :0.4264  \n",
              " Mean   :0.4240  \n",
              " 3rd Qu.:0.4309  \n",
              " Max.   :0.4323  "
            ]
          },
          "metadata": {
            "tags": []
          }
        }
      ]
    },
    {
      "cell_type": "markdown",
      "metadata": {
        "id": "W5zBhtV7dY2Z",
        "colab_type": "text"
      },
      "source": [
        "Now, training the models with the obtained parameters."
      ]
    },
    {
      "cell_type": "code",
      "metadata": {
        "id": "JqXDspzYXIH4",
        "colab_type": "code",
        "colab": {
          "base_uri": "https://localhost:8080/",
          "height": 187
        },
        "outputId": "bacb0010-3b0c-49c9-a326-c462e563c738"
      },
      "source": [
        "model <- xgb.train(data=dtrain, watchlist = watchlist,nrounds = which.min(n$test_merror_mean), nfolds  =50, objective= 'multi:softmax', eta=0.08, max_depth=15, verbose=1, num_class=3)"
      ],
      "execution_count": 53,
      "outputs": [
        {
          "output_type": "stream",
          "text": [
            "[1]\ttrain-merror:0.011111\tval-merror:0.239130 \n",
            "[2]\ttrain-merror:0.011111\tval-merror:0.217391 \n",
            "[3]\ttrain-merror:0.005556\tval-merror:0.217391 \n",
            "[4]\ttrain-merror:0.000000\tval-merror:0.239130 \n",
            "[5]\ttrain-merror:0.000000\tval-merror:0.217391 \n",
            "[6]\ttrain-merror:0.000000\tval-merror:0.173913 \n",
            "[7]\ttrain-merror:0.000000\tval-merror:0.195652 \n",
            "[8]\ttrain-merror:0.000000\tval-merror:0.217391 \n",
            "[9]\ttrain-merror:0.000000\tval-merror:0.217391 \n",
            "[10]\ttrain-merror:0.000000\tval-merror:0.217391 \n"
          ],
          "name": "stdout"
        }
      ]
    },
    {
      "cell_type": "code",
      "metadata": {
        "id": "yf4UFtkDY4D_",
        "colab_type": "code",
        "colab": {}
      },
      "source": [
        "y_pred <- predict(model , dval)  #Predictions"
      ],
      "execution_count": 0,
      "outputs": []
    },
    {
      "cell_type": "code",
      "metadata": {
        "id": "J8rYuK-YeNXu",
        "colab_type": "code",
        "colab": {
          "base_uri": "https://localhost:8080/",
          "height": 34
        },
        "outputId": "2325aa54-819b-4087-c662-af86f2301edb"
      },
      "source": [
        "xgb.save(model, \"AudClass.model\")"
      ],
      "execution_count": 69,
      "outputs": [
        {
          "output_type": "display_data",
          "data": {
            "text/plain": [
              "[1] TRUE"
            ],
            "text/latex": "TRUE",
            "text/markdown": "TRUE",
            "text/html": [
              "TRUE"
            ]
          },
          "metadata": {
            "tags": []
          }
        }
      ]
    }
  ]
}